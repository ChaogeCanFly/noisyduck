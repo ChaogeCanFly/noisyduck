{
 "cells": [
  {
   "cell_type": "markdown",
   "metadata": {},
   "source": [
    "# noisyduck\n",
    "\n",
    "## Tutorial 2: Swirling Radial Equilibrium Flow in a Cylindrical Annulus\n",
    "\n",
    "Here we use noisyduck to analyze the case of swirling mean flow in radial equilibrium in a cylindrical annulus. We don't have analytical solutions for this case, but there are a number of authors who have reported results which we can compare against.\n",
    "\n",
    "$\\bar{v}_z = M = 0.3, \\quad \\bar{v}_\\theta = \\Gamma/r,  \\quad  \\Gamma=2,   \\quad  \\bar{p} = \\frac{1}{\\gamma} + \\frac{\\Gamma^2}{2}\\left(1 - \\frac{1}{r^2}\\right)$"
   ]
  },
  {
   "cell_type": "code",
   "execution_count": 2,
   "metadata": {},
   "outputs": [],
   "source": [
    "%matplotlib inline\n",
    "import numpy as np\n",
    "import matplotlib.pyplot as plt\n",
    "import noisyduck as nd"
   ]
  },
  {
   "cell_type": "markdown",
   "metadata": {},
   "source": [
    "For this particular mean flow condition, authors have reported using different distributions of density. In this example, we use a homentropic profile that is consistent with Kousen and Nijbour.\n",
    "\n",
    "$\\rho = \\left(1 + \\frac{\\Gamma^2}{2}(\\gamma-1)\\left(1 - \\frac{1}{r^2}\\right)\\right)^{\\frac{1}{\\gamma-1}}$"
   ]
  },
  {
   "cell_type": "code",
   "execution_count": 17,
   "metadata": {},
   "outputs": [],
   "source": [
    "# Geometry\n",
    "res = 50 ; ri = 0.4 ; ro = 1.0\n",
    "r = np.linspace(ri,ro,res)\n",
    "\n",
    "# Define mean state\n",
    "GAMMA=0.2; gam=1.4; vr=0.; vt=GAMMA/r; vz=0.3\n",
    "p = (1./gam) + (GAMMA*GAMMA/2.)*(1. - 1./(r*r))\n",
    "\n",
    "# Homentropic density: consistent with Kousen, Nijbour\n",
    "rho = (1. + GAMMA*GAMMA*(gam-1.)*(1. - 1./(r*r))/2.)**(1./(gam-1.))\n",
    "\n",
    "# Define circumferential and temporal wavenumber\n",
    "omega=-10.; m=2"
   ]
  },
  {
   "cell_type": "markdown",
   "metadata": {},
   "source": [
    "With the geometry and mean flow state defined, the numerical eigendecomposition is computed. The decomposition is computed twice; once without filtering and once with filtering so we can compare their eigenspectra."
   ]
  },
  {
   "cell_type": "code",
   "execution_count": 5,
   "metadata": {},
   "outputs": [],
   "source": [
    "evals_r, evecs_rl, evecs_rr = nd.annulus.numerical.decomposition(omega,m,r,rho,vr,vt,vz,p,gam,filter='None',perturb_omega=True)\n",
    "evals_f, evecs_fl, evecs_fr = nd.annulus.numerical.decomposition(omega,m,r,rho,vr,vt,vz,p,gam,filter='acoustic',alpha=0.00001,perturb_omega=True)\n",
    "\n",
    "rho_evecs = evecs_fr[0*res:1*res,:]\n",
    "vr_evecs  = evecs_fr[1*res:2*res,:]\n",
    "vt_evecs  = evecs_fr[2*res:3*res,:]\n",
    "vz_evecs  = evecs_fr[3*res:4*res,:]\n",
    "p_evecs   = evecs_fr[4*res:5*res,:]"
   ]
  },
  {
   "cell_type": "markdown",
   "metadata": {},
   "source": [
    "Here, we will compare the eigenvalues from the numerical decomposition against reported values by Nijbour.\n",
    "\n",
    "    Nijbour, \"Eigenvalues and Eigenfunctions of Ducted Swirling Flows\", 7th AIAA/CEAS Aeroacoustics Conference, AIAA 2001-2178.\n",
    "\n",
    "Data was extracted from the conference paper using the online tool WebPlotDigitizer: https://automeris.io/WebPlotDigitizer/"
   ]
  },
  {
   "cell_type": "code",
   "execution_count": 6,
   "metadata": {},
   "outputs": [],
   "source": [
    "eigenvalues_nijbour = np.array([[-3.027340779492441,  48.36867862969005  ],\n",
    "                                [-3.061040170507461,  42.82218597063621  ],\n",
    "                                [-3.062863166930221,  37.11256117455139  ],\n",
    "                                [-3.0646340777409034, 31.56606851549755  ],\n",
    "                                [-3.066509159775743,  25.693311582381725 ],\n",
    "                                [-3.0683842418105804, 19.8205546492659   ],\n",
    "                                [-3.0703634950695786, 13.621533442088094 ],\n",
    "                                [-3.008902472816523,  6.117455138662315  ],\n",
    "                                [-3.0128609793345174,-6.280587275693314  ],\n",
    "                                [-3.0471333120824085,-13.621533442088094 ],\n",
    "                                [-3.0810931311578234,-19.9836867862969   ],\n",
    "                                [-3.0830202988047404,-26.019575856443723 ],\n",
    "                                [-3.0848432952275022,-31.729200652528547 ],\n",
    "                                [-3.054737811445923, -37.438825448613386 ],\n",
    "                                [-3.056508722256604, -42.98531810766721  ],\n",
    "                                [-3.058331718679364, -48.694942903752036 ],\n",
    "                                [-9.939361930417792, -0.08156606851550663],\n",
    "                                [-12.940639069625966,-0.08156606851550663],\n",
    "                                [3.9814554386754395, -0.08156606851550663],\n",
    "                                [6.695376256044533,  -0.08156606851550663]])"
   ]
  },
  {
   "cell_type": "code",
   "execution_count": 18,
   "metadata": {},
   "outputs": [
    {
     "data": {
      "image/png": "[encoded data removed]",
      "text/plain": [
       "<Figure size 432x288 with 1 Axes>"
      ]
     },
     "metadata": {},
     "output_type": "display_data"
    }
   ],
   "source": [
    "fig = plt.figure()\n",
    "# Plot raw numerical eigenvalues\n",
    "for i in range(len(evals_r)):\n",
    "    if (evals_r[i].imag > 0.):\n",
    "        plt.plot(evals_r[i].real,evals_r[i].imag, 'b^',markersize=3)\n",
    "    elif (evals_r[i].imag < 0.):\n",
    "        plt.plot(evals_r[i].real,evals_r[i].imag, 'bs',markersize=3)\n",
    "l = plt.xlabel('Eigenvalue: real')\n",
    "l = plt.ylabel('Eigenvalue: imag')"
   ]
  },
  {
   "cell_type": "markdown",
   "metadata": {},
   "source": [
    "Here we plot the filtered numerical eigenvalue spectrum against the data extracted from Nijbour. There are some subtle differences in the eigenvalues, which were found to be due to the lack of a term \n",
    "\n",
    "$\\frac{\\partial v_\\theta}{\\partial r} v_r'$\n",
    "\n",
    "that contributes to the residual of the equation for $v_\\theta$."
   ]
  },
  {
   "cell_type": "code",
   "execution_count": 19,
   "metadata": {},
   "outputs": [
    {
     "data": {
      "image/png": "[encoded data removed]",
      "text/plain": [
       "<Figure size 432x288 with 1 Axes>"
      ]
     },
     "metadata": {},
     "output_type": "display_data"
    }
   ],
   "source": [
    "# Plot filtered numerical eigenvalues\n",
    "for i in range(len(evals_f)):\n",
    "    if (evals_f[i].imag > 0.):\n",
    "        h_up, = plt.plot(evals_f[i].real,evals_f[i].imag,   'b^',markersize=3, label='Acc. Down')\n",
    "    elif (evals_f[i].imag < 0.):\n",
    "        h_down, = plt.plot(evals_f[i].real,evals_f[i].imag, 'bs',markersize=3, label='Acc. Up'  )\n",
    "# Plot analytical eigenvalues\n",
    "h_analytical, = plt.plot(eigenvalues_nijbour[:,0],eigenvalues_nijbour[:,1], 'ko', markerfacecolor='None',markersize=7,label='Nijbour(2001)')\n",
    "l=plt.legend(handles=[h_analytical,h_up,h_down],numpoints=1)\n",
    "l = plt.xlabel('Eigenvalue: real')\n",
    "l = plt.ylabel('Eigenvalue: imag')"
   ]
  },
  {
   "cell_type": "code",
   "execution_count": 21,
   "metadata": {},
   "outputs": [
    {
     "data": {
      "image/png": "[encoded data removed]",
      "text/plain": [
       "<Figure size 288x360 with 1 Axes>"
      ]
     },
     "metadata": {},
     "output_type": "display_data"
    }
   ],
   "source": [
    "# Plot first 4 eigenvectors of pressure, normalized by maximum value\n",
    "fig = plt.figure(figsize=(4,5))\n",
    "for i in range(4):\n",
    "    loc = np.argmax(np.abs(p_evecs[:,2*i]))\n",
    "    plt.plot(p_evecs[:,2*i].real/np.max(np.abs(p_evecs[loc,2*i].real)),r, 'ko')\n",
    "l=plt.xlim((-1,1))\n",
    "l=plt.ylim((0.4,1.0))\n",
    "l=plt.xlabel('$Re(p_{mn})$')\n",
    "l=plt.ylabel('Radius')"
   ]
  }
 ],
 "metadata": {
  "kernelspec": {
   "display_name": "Python 3",
   "language": "python",
   "name": "python3"
  },
  "language_info": {
   "codemirror_mode": {
    "name": "ipython",
    "version": 3
   },
   "file_extension": ".py",
   "mimetype": "text/x-python",
   "name": "python",
   "nbconvert_exporter": "python",
   "pygments_lexer": "ipython3",
   "version": "3.6.4"
  }
 },
 "nbformat": 4,
 "nbformat_minor": 2
}
